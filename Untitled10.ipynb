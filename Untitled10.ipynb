{
 "cells": [
  {
   "cell_type": "code",
   "execution_count": 7,
   "id": "53f48a0d-b5f2-4a23-93fd-c8cda8ea408b",
   "metadata": {},
   "outputs": [
    {
     "name": "stdin",
     "output_type": "stream",
     "text": [
      "Enter your password: @ashu12*G\n"
     ]
    },
    {
     "name": "stdout",
     "output_type": "stream",
     "text": [
      "password strength: very strong\n"
     ]
    }
   ],
   "source": [
    "import re\n",
    "def check_password_strength(password):\n",
    "    length_error=len(password)<8\n",
    "    lowercase_error=re.search(r\"[a-z]\",password) is None\n",
    "    uppercase_error=re.search(r\"[A-Z]\",password) is None\n",
    "    digit_error=re.search(r\"\\d\",password) is None\n",
    "    special_char_error=re.search(r\"[!@#$%^&*(),.?\\\":{}|<>]\",password)is None\n",
    "    score=5 -sum([length_error,lowercase_error,uppercase_error,digit_error,special_char_error])\n",
    "    if score==5:\n",
    "        strength=\"very strong\"\n",
    "    elif score>=3:\n",
    "        strength=\"strong\"\n",
    "    elif score==2:\n",
    "        strength=\"weak\"\n",
    "    else:\n",
    "        strength=\"very weak\"\n",
    "    return strength\n",
    "password=input(\"Enter your password:\")\n",
    "print(\"password strength:\",check_password_strength(password))\n",
    "\n",
    "    \n",
    "    \n",
    "    "
   ]
  },
  {
   "cell_type": "code",
   "execution_count": null,
   "id": "4206a00a-3589-43c3-ad25-fcffde1e3f8b",
   "metadata": {},
   "outputs": [],
   "source": []
  },
  {
   "cell_type": "code",
   "execution_count": null,
   "id": "3e8dca52-9ca7-41a6-9e46-c61c948d080d",
   "metadata": {},
   "outputs": [],
   "source": []
  }
 ],
 "metadata": {
  "kernelspec": {
   "display_name": "Python 3 (ipykernel)",
   "language": "python",
   "name": "python3"
  },
  "language_info": {
   "codemirror_mode": {
    "name": "ipython",
    "version": 3
   },
   "file_extension": ".py",
   "mimetype": "text/x-python",
   "name": "python",
   "nbconvert_exporter": "python",
   "pygments_lexer": "ipython3",
   "version": "3.11.7"
  }
 },
 "nbformat": 4,
 "nbformat_minor": 5
}
